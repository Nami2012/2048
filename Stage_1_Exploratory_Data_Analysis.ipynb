{
  "nbformat": 4,
  "nbformat_minor": 0,
  "metadata": {
    "colab": {
      "name": "Stage 1: Exploratory Data Analysis.ipynb",
      "provenance": [],
      "authorship_tag": "ABX9TyOoPr1be0ksDiZWrDZvci44",
      "include_colab_link": true
    },
    "kernelspec": {
      "display_name": "Python 3",
      "name": "python3"
    }
  },
  "cells": [
    {
      "cell_type": "markdown",
      "metadata": {
        "id": "view-in-github",
        "colab_type": "text"
      },
      "source": [
        "<a href=\"https://colab.research.google.com/github/Nami2012/2048/blob/master/Stage_1_Exploratory_Data_Analysis.ipynb\" target=\"_parent\"><img src=\"https://colab.research.google.com/assets/colab-badge.svg\" alt=\"Open In Colab\"/></a>"
      ]
    },
    {
      "cell_type": "code",
      "metadata": {
        "colab": {
          "base_uri": "https://localhost:8080/"
        },
        "id": "VBUE-f8L6GL_",
        "outputId": "622f3e09-ea9d-45b1-b77e-899a228db6a2"
      },
      "source": [
        "!pip install emot\n",
        "import pandas as pd\n",
        "import re\n",
        "import nltk\n",
        "import math\n",
        "import re, csv, yaml\n",
        "from nltk.corpus import wordnet\n",
        "from nltk.metrics import edit_distance\n",
        "nltk.download('punkt')\n",
        "nltk.download('stopwords')\n",
        "nltk.download('wordnet')\n",
        "from nltk.tokenize import sent_tokenize,word_tokenize\n",
        "from emot.emo_unicode import UNICODE_EMO,EMOTICONS\n",
        "from nltk.stem import LancasterStemmer,PorterStemmer\n",
        "from nltk.stem import WordNetLemmatizer\n",
        "import matplotlib \n",
        "from matplotlib import pyplot as plt\n",
        "import string"
      ],
      "execution_count": null,
      "outputs": [
        {
          "output_type": "stream",
          "text": [
            "Collecting emot\n",
            "  Downloading https://files.pythonhosted.org/packages/49/07/20001ade19873de611b7b66a4d5e5aabbf190d65abea337d5deeaa2bc3de/emot-2.1-py3-none-any.whl\n",
            "Installing collected packages: emot\n",
            "Successfully installed emot-2.1\n",
            "[nltk_data] Downloading package punkt to /root/nltk_data...\n",
            "[nltk_data]   Unzipping tokenizers/punkt.zip.\n",
            "[nltk_data] Downloading package stopwords to /root/nltk_data...\n",
            "[nltk_data]   Unzipping corpora/stopwords.zip.\n",
            "[nltk_data] Downloading package wordnet to /root/nltk_data...\n",
            "[nltk_data]   Unzipping corpora/wordnet.zip.\n"
          ],
          "name": "stdout"
        }
      ]
    },
    {
      "cell_type": "code",
      "metadata": {
        "colab": {
          "base_uri": "https://localhost:8080/",
          "height": 206
        },
        "id": "JQ9UUsv9HQ2e",
        "outputId": "f53f2290-90ca-418b-d8fb-1bc1d04e9742"
      },
      "source": [
        "data = pd.read_csv('./agr_en_train_Corrected.csv')\n",
        "data = data.dropna(axis=1, thresh=3,how='any') \n",
        "\n",
        "data = data.dropna()\n",
        "data.head()\n"
      ],
      "execution_count": null,
      "outputs": [
        {
          "output_type": "execute_result",
          "data": {
            "text/html": [
              "<div>\n",
              "<style scoped>\n",
              "    .dataframe tbody tr th:only-of-type {\n",
              "        vertical-align: middle;\n",
              "    }\n",
              "\n",
              "    .dataframe tbody tr th {\n",
              "        vertical-align: top;\n",
              "    }\n",
              "\n",
              "    .dataframe thead th {\n",
              "        text-align: right;\n",
              "    }\n",
              "</style>\n",
              "<table border=\"1\" class=\"dataframe\">\n",
              "  <thead>\n",
              "    <tr style=\"text-align: right;\">\n",
              "      <th></th>\n",
              "      <th>ID</th>\n",
              "      <th>Text</th>\n",
              "      <th>Label</th>\n",
              "    </tr>\n",
              "  </thead>\n",
              "  <tbody>\n",
              "    <tr>\n",
              "      <th>0</th>\n",
              "      <td>facebook_corpus_msr_438967</td>\n",
              "      <td>Stupid traders - keep shopping carts for peopl...</td>\n",
              "      <td>CAG</td>\n",
              "    </tr>\n",
              "    <tr>\n",
              "      <th>1</th>\n",
              "      <td>facebook_corpus_msr_2073032</td>\n",
              "      <td>BJP sees ‘TMC conspiracy’  CID says didn’t mak...</td>\n",
              "      <td>CAG</td>\n",
              "    </tr>\n",
              "    <tr>\n",
              "      <th>2</th>\n",
              "      <td>facebook_corpus_msr_362752</td>\n",
              "      <td>...and we thought the talented guy who posts y...</td>\n",
              "      <td>CAG</td>\n",
              "    </tr>\n",
              "    <tr>\n",
              "      <th>3</th>\n",
              "      <td>facebook_corpus_msr_1956970</td>\n",
              "      <td>It is the worst of times  it is the age of foo...</td>\n",
              "      <td>CAG</td>\n",
              "    </tr>\n",
              "    <tr>\n",
              "      <th>4</th>\n",
              "      <td>facebook_corpus_msr_487742</td>\n",
              "      <td>RBI policy not taken in the right spirit by Ma...</td>\n",
              "      <td>CAG</td>\n",
              "    </tr>\n",
              "  </tbody>\n",
              "</table>\n",
              "</div>"
            ],
            "text/plain": [
              "                           ID   ... Label\n",
              "0   facebook_corpus_msr_438967  ...   CAG\n",
              "1  facebook_corpus_msr_2073032  ...   CAG\n",
              "2   facebook_corpus_msr_362752  ...   CAG\n",
              "3  facebook_corpus_msr_1956970  ...   CAG\n",
              "4   facebook_corpus_msr_487742  ...   CAG\n",
              "\n",
              "[5 rows x 3 columns]"
            ]
          },
          "metadata": {
            "tags": []
          },
          "execution_count": 18
        }
      ]
    },
    {
      "cell_type": "code",
      "metadata": {
        "colab": {
          "base_uri": "https://localhost:8080/",
          "height": 206
        },
        "id": "_-akboqRHM8R",
        "outputId": "6635bf0b-d327-4dad-b017-d9e00e4851f3"
      },
      "source": [
        "data['Label'] = data.apply(lambda row:re.sub(r'^https?:\\/\\/.*[\\r\\n]*|\\S*@\\S*\\s?','', row['Label'], flags=re.MULTILINE),axis=1)\n",
        "data.head()"
      ],
      "execution_count": null,
      "outputs": [
        {
          "output_type": "execute_result",
          "data": {
            "text/html": [
              "<div>\n",
              "<style scoped>\n",
              "    .dataframe tbody tr th:only-of-type {\n",
              "        vertical-align: middle;\n",
              "    }\n",
              "\n",
              "    .dataframe tbody tr th {\n",
              "        vertical-align: top;\n",
              "    }\n",
              "\n",
              "    .dataframe thead th {\n",
              "        text-align: right;\n",
              "    }\n",
              "</style>\n",
              "<table border=\"1\" class=\"dataframe\">\n",
              "  <thead>\n",
              "    <tr style=\"text-align: right;\">\n",
              "      <th></th>\n",
              "      <th>ID</th>\n",
              "      <th>Text</th>\n",
              "      <th>Label</th>\n",
              "    </tr>\n",
              "  </thead>\n",
              "  <tbody>\n",
              "    <tr>\n",
              "      <th>0</th>\n",
              "      <td>facebook_corpus_msr_438967</td>\n",
              "      <td>Stupid traders - keep shopping carts for peopl...</td>\n",
              "      <td>CAG</td>\n",
              "    </tr>\n",
              "    <tr>\n",
              "      <th>1</th>\n",
              "      <td>facebook_corpus_msr_2073032</td>\n",
              "      <td>BJP sees ‘TMC conspiracy’  CID says didn’t mak...</td>\n",
              "      <td>CAG</td>\n",
              "    </tr>\n",
              "    <tr>\n",
              "      <th>2</th>\n",
              "      <td>facebook_corpus_msr_362752</td>\n",
              "      <td>...and we thought the talented guy who posts y...</td>\n",
              "      <td>CAG</td>\n",
              "    </tr>\n",
              "    <tr>\n",
              "      <th>3</th>\n",
              "      <td>facebook_corpus_msr_1956970</td>\n",
              "      <td>It is the worst of times  it is the age of foo...</td>\n",
              "      <td>CAG</td>\n",
              "    </tr>\n",
              "    <tr>\n",
              "      <th>4</th>\n",
              "      <td>facebook_corpus_msr_487742</td>\n",
              "      <td>RBI policy not taken in the right spirit by Ma...</td>\n",
              "      <td>CAG</td>\n",
              "    </tr>\n",
              "  </tbody>\n",
              "</table>\n",
              "</div>"
            ],
            "text/plain": [
              "                           ID   ... Label\n",
              "0   facebook_corpus_msr_438967  ...   CAG\n",
              "1  facebook_corpus_msr_2073032  ...   CAG\n",
              "2   facebook_corpus_msr_362752  ...   CAG\n",
              "3  facebook_corpus_msr_1956970  ...   CAG\n",
              "4   facebook_corpus_msr_487742  ...   CAG\n",
              "\n",
              "[5 rows x 3 columns]"
            ]
          },
          "metadata": {
            "tags": []
          },
          "execution_count": 19
        }
      ]
    },
    {
      "cell_type": "code",
      "metadata": {
        "colab": {
          "base_uri": "https://localhost:8080/",
          "height": 206
        },
        "id": "atB5S6BKH7bN",
        "outputId": "f2d295d3-eac8-4654-fd6c-cecc844c1b76"
      },
      "source": [
        "data['emoji'] =\"\"\n",
        "data.head()"
      ],
      "execution_count": null,
      "outputs": [
        {
          "output_type": "execute_result",
          "data": {
            "text/html": [
              "<div>\n",
              "<style scoped>\n",
              "    .dataframe tbody tr th:only-of-type {\n",
              "        vertical-align: middle;\n",
              "    }\n",
              "\n",
              "    .dataframe tbody tr th {\n",
              "        vertical-align: top;\n",
              "    }\n",
              "\n",
              "    .dataframe thead th {\n",
              "        text-align: right;\n",
              "    }\n",
              "</style>\n",
              "<table border=\"1\" class=\"dataframe\">\n",
              "  <thead>\n",
              "    <tr style=\"text-align: right;\">\n",
              "      <th></th>\n",
              "      <th>ID</th>\n",
              "      <th>Text</th>\n",
              "      <th>Label</th>\n",
              "      <th>emoji</th>\n",
              "    </tr>\n",
              "  </thead>\n",
              "  <tbody>\n",
              "    <tr>\n",
              "      <th>0</th>\n",
              "      <td>facebook_corpus_msr_438967</td>\n",
              "      <td>Stupid traders - keep shopping carts for peopl...</td>\n",
              "      <td>CAG</td>\n",
              "      <td></td>\n",
              "    </tr>\n",
              "    <tr>\n",
              "      <th>1</th>\n",
              "      <td>facebook_corpus_msr_2073032</td>\n",
              "      <td>BJP sees ‘TMC conspiracy’  CID says didn’t mak...</td>\n",
              "      <td>CAG</td>\n",
              "      <td></td>\n",
              "    </tr>\n",
              "    <tr>\n",
              "      <th>2</th>\n",
              "      <td>facebook_corpus_msr_362752</td>\n",
              "      <td>...and we thought the talented guy who posts y...</td>\n",
              "      <td>CAG</td>\n",
              "      <td></td>\n",
              "    </tr>\n",
              "    <tr>\n",
              "      <th>3</th>\n",
              "      <td>facebook_corpus_msr_1956970</td>\n",
              "      <td>It is the worst of times  it is the age of foo...</td>\n",
              "      <td>CAG</td>\n",
              "      <td></td>\n",
              "    </tr>\n",
              "    <tr>\n",
              "      <th>4</th>\n",
              "      <td>facebook_corpus_msr_487742</td>\n",
              "      <td>RBI policy not taken in the right spirit by Ma...</td>\n",
              "      <td>CAG</td>\n",
              "      <td></td>\n",
              "    </tr>\n",
              "  </tbody>\n",
              "</table>\n",
              "</div>"
            ],
            "text/plain": [
              "                           ID   ... emoji\n",
              "0   facebook_corpus_msr_438967  ...      \n",
              "1  facebook_corpus_msr_2073032  ...      \n",
              "2   facebook_corpus_msr_362752  ...      \n",
              "3  facebook_corpus_msr_1956970  ...      \n",
              "4   facebook_corpus_msr_487742  ...      \n",
              "\n",
              "[5 rows x 4 columns]"
            ]
          },
          "metadata": {
            "tags": []
          },
          "execution_count": 20
        }
      ]
    },
    {
      "cell_type": "code",
      "metadata": {
        "id": "8FoCS5BfH9jH"
      },
      "source": [
        "def add_emoji(text):\n",
        "    emoticons = []\n",
        "    for emot in UNICODE_EMO:\n",
        "        if emot in text:\n",
        "          emoticons.append(emot)\n",
        "    \n",
        "    for emot in EMOTICONS:\n",
        "        if emot in text:\n",
        "          emoticons.append(emot)\n",
        "    return emoticons\n",
        "\n",
        "def convert_emojis(text):\n",
        "    string = text\n",
        "    for emot in UNICODE_EMO:\n",
        "        text = text.replace(emot, \"_\".join(UNICODE_EMO[emot].replace(\",\",\"\").replace(\":\",\"\").split()))\n",
        "    for emot in EMOTICONS:\n",
        "        text = re.sub(u'('+emot+')', \"_\".join(EMOTICONS[emot].replace(\",\",\"\").split()), text)\n",
        "    if string == text:\n",
        "      return \"\"\n",
        "    return text\n",
        "data['emoji'] = data.apply(lambda row:convert_emojis(row['Text']),axis=1)"
      ],
      "execution_count": null,
      "outputs": []
    },
    {
      "cell_type": "code",
      "metadata": {
        "colab": {
          "base_uri": "https://localhost:8080/",
          "height": 206
        },
        "id": "rrHHd_OWIX8W",
        "outputId": "ec8395bc-4d29-4f09-d89a-607f13fb4f69"
      },
      "source": [
        "data.head()"
      ],
      "execution_count": null,
      "outputs": [
        {
          "output_type": "execute_result",
          "data": {
            "text/html": [
              "<div>\n",
              "<style scoped>\n",
              "    .dataframe tbody tr th:only-of-type {\n",
              "        vertical-align: middle;\n",
              "    }\n",
              "\n",
              "    .dataframe tbody tr th {\n",
              "        vertical-align: top;\n",
              "    }\n",
              "\n",
              "    .dataframe thead th {\n",
              "        text-align: right;\n",
              "    }\n",
              "</style>\n",
              "<table border=\"1\" class=\"dataframe\">\n",
              "  <thead>\n",
              "    <tr style=\"text-align: right;\">\n",
              "      <th></th>\n",
              "      <th>ID</th>\n",
              "      <th>Text</th>\n",
              "      <th>Label</th>\n",
              "      <th>emoji</th>\n",
              "    </tr>\n",
              "  </thead>\n",
              "  <tbody>\n",
              "    <tr>\n",
              "      <th>0</th>\n",
              "      <td>facebook_corpus_msr_438967</td>\n",
              "      <td>Stupid traders - keep shopping carts for peopl...</td>\n",
              "      <td>CAG</td>\n",
              "      <td></td>\n",
              "    </tr>\n",
              "    <tr>\n",
              "      <th>1</th>\n",
              "      <td>facebook_corpus_msr_2073032</td>\n",
              "      <td>BJP sees ‘TMC conspiracy’  CID says didn’t mak...</td>\n",
              "      <td>CAG</td>\n",
              "      <td></td>\n",
              "    </tr>\n",
              "    <tr>\n",
              "      <th>2</th>\n",
              "      <td>facebook_corpus_msr_362752</td>\n",
              "      <td>...and we thought the talented guy who posts y...</td>\n",
              "      <td>CAG</td>\n",
              "      <td></td>\n",
              "    </tr>\n",
              "    <tr>\n",
              "      <th>3</th>\n",
              "      <td>facebook_corpus_msr_1956970</td>\n",
              "      <td>It is the worst of times  it is the age of foo...</td>\n",
              "      <td>CAG</td>\n",
              "      <td></td>\n",
              "    </tr>\n",
              "    <tr>\n",
              "      <th>4</th>\n",
              "      <td>facebook_corpus_msr_487742</td>\n",
              "      <td>RBI policy not taken in the right spirit by Ma...</td>\n",
              "      <td>CAG</td>\n",
              "      <td></td>\n",
              "    </tr>\n",
              "  </tbody>\n",
              "</table>\n",
              "</div>"
            ],
            "text/plain": [
              "                           ID   ... emoji\n",
              "0   facebook_corpus_msr_438967  ...      \n",
              "1  facebook_corpus_msr_2073032  ...      \n",
              "2   facebook_corpus_msr_362752  ...      \n",
              "3  facebook_corpus_msr_1956970  ...      \n",
              "4   facebook_corpus_msr_487742  ...      \n",
              "\n",
              "[5 rows x 4 columns]"
            ]
          },
          "metadata": {
            "tags": []
          },
          "execution_count": 22
        }
      ]
    },
    {
      "cell_type": "code",
      "metadata": {
        "id": "_yZ3yCAPJVVT"
      },
      "source": [
        "def csv_download_link(df, csv_file_name, delete_prompt=True):\n",
        "    \"\"\"Display a download link to load a data frame as csv from within a Jupyter notebook\"\"\"\n",
        "    df.to_csv(csv_file_name, index=False)\n",
        "    from IPython.display import FileLink\n",
        "    display(FileLink(csv_file_name))\n",
        "    if delete_prompt:\n",
        "        a = input('Press enter to delete the file after you have downloaded it.')\n",
        "        import os\n",
        "        os.remove(csv_file_name)"
      ],
      "execution_count": null,
      "outputs": []
    },
    {
      "cell_type": "code",
      "metadata": {
        "colab": {
          "base_uri": "https://localhost:8080/",
          "height": 54
        },
        "id": "GwyMNwZKIp0W",
        "outputId": "adeb2cbc-03a4-4217-9ddc-d126e5e2d69b"
      },
      "source": [
        "csv_download_link(data, 'EmoticonText.csv')"
      ],
      "execution_count": null,
      "outputs": [
        {
          "output_type": "display_data",
          "data": {
            "text/html": [
              "<a href='EmoticonText.csv' target='_blank'>EmoticonText.csv</a><br>"
            ],
            "text/plain": [
              "/content/EmoticonText.csv"
            ]
          },
          "metadata": {
            "tags": []
          }
        },
        {
          "output_type": "stream",
          "text": [
            "Press enter to delete the file after you have downloaded it.\n"
          ],
          "name": "stdout"
        }
      ]
    },
    {
      "cell_type": "code",
      "metadata": {
        "colab": {
          "base_uri": "https://localhost:8080/"
        },
        "id": "9UmVCYpWJS2t",
        "outputId": "82ea1419-c6c8-4e40-b519-9697d969924c"
      },
      "source": [
        "count = 0\n",
        "for row in data['emoji']:\n",
        "  if row:\n",
        "    count+=1\n",
        "print((count/11999) * 100)\n"
      ],
      "execution_count": null,
      "outputs": [
        {
          "output_type": "stream",
          "text": [
            "10.867572297691474\n"
          ],
          "name": "stdout"
        }
      ]
    },
    {
      "cell_type": "code",
      "metadata": {
        "id": "gWaCrYrgMyTB"
      },
      "source": [
        ""
      ],
      "execution_count": null,
      "outputs": []
    }
  ]
}